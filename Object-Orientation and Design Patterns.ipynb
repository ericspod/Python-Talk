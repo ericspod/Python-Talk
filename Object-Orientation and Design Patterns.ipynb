{
 "cells": [
  {
   "cell_type": "markdown",
   "metadata": {},
   "source": [
    "# Object-Orientation and Design Patterns\n",
    "\n",
    "This is the preliminary content for the next talk, I'll refactor this stuff into slides later.\n",
    "\n",
    "Object-orientation is a programming paradigm centered on the concept of encapsulating data with operations. In the simplest form, an object is a piece of data with associated routines which manipulate that data. Object-oriented systems are composed of many objects aggrigating together to form structures and cooperate in implementing a program's behaviour. \n",
    "\n",
    "This contrasts with imperative languages like Fortran or C which are composed of routines and data defined separately as global or local variables. Here there is a loose relationship between data and the code that manipulates it, and the structure of the code is much less flexible or reusable.\n",
    "\n",
    "Data structures and their associated code are defined as abstract data types (ADTs) which are composed of a definition for a data entity and routines which manipulate such entities. For example, a `Dimension` type in C to represent a 2D area:\n",
    "\n",
    "```\n",
    "struct Dimension;\n",
    "void init(struct Dimension* d, int w, int h);\n",
    "int area(struct Dimension* d);\n",
    "```\n",
    "\n",
    "The abstract component of this ADT is evident the data entity and its routines being declared without befined. \n",
    "A client can still use this ADT without knowing the details of its implementation; abstraction is an important property to ensure a separation of concerns and modularity in code.\n",
    "This however defines a weak link between the data entity `Dimension` and the routines, as well as creating a definition which cannot be changed or adapted in client code.\n",
    "\n",
    "Object-oriented programming aims to make the connection between data and code tighter and explicit while preserving abstraction. Objects are instances of ADTs which encapsulate data and routines in one entity, as demonstrated in the C++ equivalent of the above:\n",
    "\n",
    "```\n",
    "class Dimension {\n",
    "private:\n",
    "  int width,height;\n",
    "public:\n",
    "  Dimension(int w, int h);\n",
    "  virtual int area();\n",
    "};\n",
    "```\n",
    "\n",
    "In Python:"
   ]
  },
  {
   "cell_type": "code",
   "execution_count": 1,
   "metadata": {
    "collapsed": true
   },
   "outputs": [],
   "source": [
    "class Dimension(object):\n",
    "    def __init__(self,w,h):\n",
    "        self.width=w\n",
    "        self.height=h\n",
    "    def area(self):\n",
    "        return self.width*self.height"
   ]
  }
 ],
 "metadata": {
  "kernelspec": {
   "display_name": "Python 2",
   "language": "python",
   "name": "python2"
  },
  "language_info": {
   "codemirror_mode": {
    "name": "ipython",
    "version": 2
   },
   "file_extension": ".py",
   "mimetype": "text/x-python",
   "name": "python",
   "nbconvert_exporter": "python",
   "pygments_lexer": "ipython2",
   "version": "2.7.6"
  }
 },
 "nbformat": 4,
 "nbformat_minor": 0
}
