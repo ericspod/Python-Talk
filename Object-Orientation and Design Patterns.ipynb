{
 "cells": [
  {
   "cell_type": "markdown",
   "metadata": {},
   "source": [
    "# Object-Orientation and Design Patterns\n",
    "\n",
    "This is the preliminary content for the next talk, I'll refactor this stuff into slides later.\n",
    "\n",
    "\n",
    " \n",
    "Subjects to cover:\n",
    "\n",
    " * __Object Definition__: the structural concept of an entity with data and operations\n",
    "   * Creation\n",
    "   * Referencing objects and identity\n",
    "   * Everything is an object\n",
    "   \n",
    " * __Classes__: definition of the object blueprint\n",
    " \n",
    " * __Class Members (or features)__:\n",
    "   * Attributes: data components of a class\n",
    "   * Constructors: how objects are constructed\n",
    "   * Methods: definition of object operations\n",
    "   \n",
    " * __Notion of Interface__: the layer through which clients interact with objects\n",
    "   * Abstraction\n",
    "   * Programming to interfaces\n",
    "   \n",
    " * __Inheritance__: definition of classes in terms of others\n",
    "   * Concept of specialization\n",
    "   * Single inheritance\n",
    "   * Multiple inheritance\n",
    "   * When to use composition vs. inheritance\n",
    "   * Principle of Substitution (and duck typing)\n",
    "   * Inheritance of convenience: don't do this\n",
    "   \n",
    " * __Method Overriding__: modifying behaviour of inherited code by replacing methods\n",
    " * __Things Not Present in Python__: method/constructor overloading, variable polymorphism\n",
    " \n",
    " * Design Patterns:\n",
    "   * __Subject-Observer__\n",
    "   * __Iterator__\n",
    "   * __Template Method__\n",
    "   * __Factory Method__\n",
    "   * __Adapter__\n",
    " \n",
    "Key concepts:\n",
    " * __Encapsulation__: definitions of data entities are packaged together with the code which actuates their behaviour\n",
    " * __Abstraction__: the details of how objects function are hidden from clients while still permitting use\n",
    " * __Inheritance__: object definitions can be stated as extensions of existing ones, assuming their members for reuse in the new type\n",
    " * __Genericity__: code and data structures can operate with existing types or new ones introduced in later client code\n",
    " * __Polymorphism__: objects have multiple types, can have differing behaviour from what would be expected of one of these types \n",
    " * __Substitutability__: objects of a subtype should be substitutable with objects of the parent type while preserving correctness\n",
    " "
   ]
  },
  {
   "cell_type": "markdown",
   "metadata": {},
   "source": [
    "Object-orientation is a programming paradigm centered on the concept of encapsulating data with operations. In the simplest form, an object is a piece of data with associated routines which manipulate that data. Object-oriented systems are composed of many objects aggregating together to form structures and cooperate in implementing a program's behaviour. \n",
    "\n",
    "This contrasts with imperative languages like Fortran or C which are composed of routines and data defined separately as global or local variables. Here there is a loose relationship between data and the code that manipulates it, and the structure of the code is much less flexible or reusable.\n",
    "\n",
    "Data structures and their associated code are defined as abstract data types (ADTs) which are composed of a definition for a data entity and routines which manipulate such entities. For example, a `Dimension` type in C to represent a 2D area:\n",
    "\n",
    "```\n",
    "struct Dimension { int width,height; }\n",
    "void init(struct Dimension* d, int w, int h);\n",
    "int area(struct Dimension* d);\n",
    "```\n",
    "\n",
    "The abstract component of this ADT is evident in that the data entity and its routines are declared without being befined. \n",
    "A client can still use this ADT without knowing the details of its implementation; abstraction is an important property to ensure a separation of concerns and modularity in code.\n",
    "This however defines a weak link between the data entity `Dimension` and the routines, as well as creating a definition which cannot be changed or adapted in client code.\n",
    "\n",
    "Object-oriented programming aims to make the connection between data and code tighter and explicit while preserving abstraction. Objects are instances of ADTs which encapsulate data and routines in one entity, as demonstrated in the C++ equivalent of the above:\n",
    "\n",
    "```\n",
    "class Dimension {\n",
    "private:\n",
    "  int width,height;\n",
    "public:\n",
    "  Dimension(int w, int h);\n",
    "  virtual int area();\n",
    "};\n",
    "```\n",
    "\n",
    "In Python:"
   ]
  },
  {
   "cell_type": "code",
   "execution_count": 34,
   "metadata": {
    "collapsed": true
   },
   "outputs": [],
   "source": [
    "class Dimension(object):\n",
    "    def __init__(self,w,h):\n",
    "        self.width=w\n",
    "        self.height=h\n",
    "    def area(self):\n",
    "        return self.width*self.height"
   ]
  },
  {
   "cell_type": "markdown",
   "metadata": {},
   "source": [
    "An object is created by instantiating the class, that is creating an instance of class which has those members it defines:"
   ]
  },
  {
   "cell_type": "code",
   "execution_count": 35,
   "metadata": {
    "collapsed": false
   },
   "outputs": [],
   "source": [
    "d=Dimension(10,20)"
   ]
  },
  {
   "cell_type": "markdown",
   "metadata": {},
   "source": [
    "The variable `d` references an instance of `Dimension`, therefore this object has the type `Dimension` as well as `object`. Multiple instances of a class can be created, each instance is an independent object with their own unique identities and distinct members:"
   ]
  },
  {
   "cell_type": "code",
   "execution_count": 36,
   "metadata": {
    "collapsed": false
   },
   "outputs": [
    {
     "name": "stdout",
     "output_type": "stream",
     "text": [
      "61323416 61323024\n"
     ]
    }
   ],
   "source": [
    "d1=Dimension(15,30)\n",
    "print id(d),id(d1)"
   ]
  },
  {
   "cell_type": "markdown",
   "metadata": {},
   "source": [
    "In Python it is important to note that assigning to a variable only causes it to refer to a new object, that is to say a variable is a name that is bound to an object. This doesn't copy the object in any way but may make the previous referenced object inaccessible:"
   ]
  },
  {
   "cell_type": "code",
   "execution_count": 37,
   "metadata": {
    "collapsed": false
   },
   "outputs": [
    {
     "name": "stdout",
     "output_type": "stream",
     "text": [
      "61323416 61323416\n"
     ]
    }
   ],
   "source": [
    "d1=d\n",
    "print id(d),id(d1)"
   ]
  },
  {
   "cell_type": "markdown",
   "metadata": {},
   "source": [
    "Each object has the members defined by the class. Members (or features in some literature) are the components of an object falling into these broad categories:\n",
    "\n",
    " * __Attributes__: named data values stored in the object\n",
    " * __Methods__: routines associated with the object and which can refer to the object by name\n",
    " * __Constructor__: special method used to setup a new object's state at the point of instantiation\n",
    " \n",
    "Other types of members exist in other languages but they are special forms of either attributes or methods. A member of an object is accessed using the dot notation of the form __`object.member`__. This allows members to be accessed and mutated:"
   ]
  },
  {
   "cell_type": "code",
   "execution_count": 38,
   "metadata": {
    "collapsed": false
   },
   "outputs": [
    {
     "name": "stdout",
     "output_type": "stream",
     "text": [
      "10 20\n",
      "12 20\n",
      "<bound method Dimension.area of <__main__.Dimension object at 0x0000000003A7B898>>\n"
     ]
    }
   ],
   "source": [
    "print d.width, d.height\n",
    "d.width=12\n",
    "print d.width, d.height\n",
    "print d.area # methods can be accessed without being called"
   ]
  },
  {
   "cell_type": "markdown",
   "metadata": {},
   "source": [
    "One important name that exists in all methods is __self__ which refers to the object whose method was called. Recall the definition of `area()` from `Dimension`:"
   ]
  },
  {
   "cell_type": "code",
   "execution_count": 39,
   "metadata": {
    "collapsed": true
   },
   "outputs": [],
   "source": [
    "def area(self):\n",
    "    return self.width*self.height"
   ]
  },
  {
   "cell_type": "markdown",
   "metadata": {},
   "source": [
    "When a method of an object is called using the dot notation, the value for `self` is set to the object (called the receiver or callee) within the scope of the call. Thus when calling `area()` with `d` as the receiver, `self` is bound to `d` and so allows access to its members:"
   ]
  },
  {
   "cell_type": "code",
   "execution_count": 40,
   "metadata": {
    "collapsed": false
   },
   "outputs": [
    {
     "name": "stdout",
     "output_type": "stream",
     "text": [
      "240\n"
     ]
    }
   ],
   "source": [
    "print d.area()"
   ]
  },
  {
   "cell_type": "markdown",
   "metadata": {},
   "source": [
    "Calling this method is equivalent to calling a function and passing `d` as the first argument whose members are then accessed in the calculation"
   ]
  },
  {
   "cell_type": "code",
   "execution_count": 43,
   "metadata": {
    "collapsed": false
   },
   "outputs": [
    {
     "name": "stdout",
     "output_type": "stream",
     "text": [
      "240\n"
     ]
    }
   ],
   "source": [
    "def areafunc(self):\n",
    "    return self.width*self.height\n",
    "\n",
    "print areafunc(d)"
   ]
  },
  {
   "cell_type": "markdown",
   "metadata": {},
   "source": [
    "This however breaks the relationship between instances of `Dimension` and the operation of calculating an area, especially in Python which does not assign a type to argument values. Nothing prevents the following, which is obviously wrong but only discoverable at runtime:"
   ]
  },
  {
   "cell_type": "code",
   "execution_count": 44,
   "metadata": {
    "collapsed": false
   },
   "outputs": [
    {
     "ename": "AttributeError",
     "evalue": "'str' object has no attribute 'width'",
     "output_type": "error",
     "traceback": [
      "\u001b[1;31m---------------------------------------------------------------------------\u001b[0m",
      "\u001b[1;31mAttributeError\u001b[0m                            Traceback (most recent call last)",
      "\u001b[1;32m<ipython-input-44-9d366e7ab1b0>\u001b[0m in \u001b[0;36m<module>\u001b[1;34m()\u001b[0m\n\u001b[1;32m----> 1\u001b[1;33m \u001b[1;32mprint\u001b[0m \u001b[0mareafunc\u001b[0m\u001b[1;33m(\u001b[0m\u001b[1;34m'I am not a Dimension object'\u001b[0m\u001b[1;33m)\u001b[0m\u001b[1;33m\u001b[0m\u001b[0m\n\u001b[0m",
      "\u001b[1;32m<ipython-input-43-89bd514022b0>\u001b[0m in \u001b[0;36mareafunc\u001b[1;34m(self)\u001b[0m\n\u001b[0;32m      1\u001b[0m \u001b[1;32mdef\u001b[0m \u001b[0mareafunc\u001b[0m\u001b[1;33m(\u001b[0m\u001b[0mself\u001b[0m\u001b[1;33m)\u001b[0m\u001b[1;33m:\u001b[0m\u001b[1;33m\u001b[0m\u001b[0m\n\u001b[1;32m----> 2\u001b[1;33m     \u001b[1;32mreturn\u001b[0m \u001b[0mself\u001b[0m\u001b[1;33m.\u001b[0m\u001b[0mwidth\u001b[0m\u001b[1;33m*\u001b[0m\u001b[0mself\u001b[0m\u001b[1;33m.\u001b[0m\u001b[0mheight\u001b[0m\u001b[1;33m\u001b[0m\u001b[0m\n\u001b[0m\u001b[0;32m      3\u001b[0m \u001b[1;33m\u001b[0m\u001b[0m\n\u001b[0;32m      4\u001b[0m \u001b[1;32mprint\u001b[0m \u001b[0mareafunc\u001b[0m\u001b[1;33m(\u001b[0m\u001b[0md\u001b[0m\u001b[1;33m)\u001b[0m\u001b[1;33m\u001b[0m\u001b[0m\n",
      "\u001b[1;31mAttributeError\u001b[0m: 'str' object has no attribute 'width'"
     ]
    }
   ],
   "source": [
    "print areafunc('I am not a Dimension object')"
   ]
  },
  {
   "cell_type": "markdown",
   "metadata": {},
   "source": [
    "A method defines an operation which is associated with an object, but it also defines an interface in terms of the process of calling it. The `area()` method for example defines an interface as a method named `area` which accepts no arguments and returns a single number. This represents all the information a caller (or client) needs to know about `area()` to be able to use it, that is the interface abstracts away the details of implementation. The interfaces of all the methods for an object, as well as the notions of accessing and mutating attributes, aggregate together to form the __object interface__ for that object. \n",
    "\n",
    "A client, whether another object or a routine, need only know about an object's interface to be able to interact with it. Since the interface is abstract there are no requirements regarding the type or implementation of this object, thus two objects can have the same interface but differing implementations. For example, any other class which defines an `area()` method with the same arguments and return type essentially defines the same interface:"
   ]
  },
  {
   "cell_type": "code",
   "execution_count": 46,
   "metadata": {
    "collapsed": false
   },
   "outputs": [
    {
     "name": "stdout",
     "output_type": "stream",
     "text": [
      "900\n"
     ]
    }
   ],
   "source": [
    "class Dimension3(object):\n",
    "    def __init__(self,w,h,d):\n",
    "        self.width=w\n",
    "        self.height=h\n",
    "        self.depth=d\n",
    "        \n",
    "    def area(self):\n",
    "        return 2*(self.width*(self.height+self.depth)+self.height*self.depth)\n",
    "    \n",
    "d3=Dimension3(10,12,15)\n",
    "print d3.area()"
   ]
  },
  {
   "cell_type": "markdown",
   "metadata": {},
   "source": [
    "If an instance of `Dimension` and another of `Dimension3` both implement the same interface (considering `area()` only), then a client can be implemented which function with either:"
   ]
  },
  {
   "cell_type": "code",
   "execution_count": 47,
   "metadata": {
    "collapsed": false
   },
   "outputs": [
    {
     "name": "stdout",
     "output_type": "stream",
     "text": [
      "15\n",
      "30\n"
     ]
    }
   ],
   "source": [
    "def calcsquare(obj):\n",
    "    area=obj.area()\n",
    "    return int(area**0.5)\n",
    "\n",
    "print calcsquare(d)\n",
    "print calcsquare(d3)"
   ]
  },
  {
   "cell_type": "markdown",
   "metadata": {},
   "source": [
    "The function `calcsquare()` uses only the interface of `object` to interact with it, which is either `Dimension.area` or `Dimension3.area` depending on what object was passed in as `obj`. Defining clients in terms of interfaces is called __Programming to Interfaces__ naturally enough. It is an important mechanism for reuse since it allows routines, algorithms, or whole modules to be integrated with introduced code whose implementations are unknown (for example your code). \n",
    "\n",
    "In Python this can be done easily since `calcsquare()` doesn't check that its argument `obj` fulfills the interface it needs, it just tries to call `area()` and if it isn't suitable an error occurs at runtime. This is called __duck typing__ since if it looks like a duck, and quacks like a duck, it ain't a moose. In our example having the correct `area()` method constitutes quacking in the right manner.\n",
    "\n",
    "In other languages like C++, C#, or Java which are statically typed there must be a type which defines the needed interface, and any object must inherit this type to be usable. For example in C++:\n",
    "\n",
    "```\n",
    "class AreaInterface { virtual float area()=0; };\n",
    "float calcsquare(const AreaInterface& a) { ... }\n",
    "```\n",
    "\n",
    "__Inheritance__ allows a class to be defined in terms of another, the specific rules for which vary by language but in general the inheriting type (a subtype or subclass) receives all the members of the type being inherited (the supertype or superclass). This allows a class to acquire code members without having to redefine them, so prevents reinventing the wheel in many cases and so is an important component to reuse. Consider a class defining a specific rectangular area in 2D space:"
   ]
  },
  {
   "cell_type": "code",
   "execution_count": 51,
   "metadata": {
    "collapsed": false
   },
   "outputs": [
    {
     "name": "stdout",
     "output_type": "stream",
     "text": [
      "4 4 12 10\n",
      "120 (16, 14)\n",
      "True True\n"
     ]
    }
   ],
   "source": [
    "class Rect(Dimension):\n",
    "    def __init__(self,x,y,w,d):\n",
    "        Dimension.__init__(self,w,d)\n",
    "        self.x=x\n",
    "        self.y=y\n",
    "        \n",
    "    def farCorner(self):\n",
    "        return (self.x+self.width,self.y+self.height)\n",
    "    \n",
    "r=Rect(4,4,12,10)\n",
    "print r.x, r.y, r.width, r.height\n",
    "print r.area(), r.farCorner()\n",
    "print isinstance(r,Rect), isinstance(r,Dimension)"
   ]
  },
  {
   "cell_type": "markdown",
   "metadata": {},
   "source": [
    "The class `Rect` has inherited members from `Dimension` and introduced new ones in its constructor. It has an `area()` method which functions as before as well as defined a new method. What is important to note is that instances of `Rect` are also instances of `Dimension`; this is one aspect of __polymorphism__. \n",
    "\n",
    "Inheritance is more than just the copy-pasting of members, or at least should be. The idea with inheritance is that the subtype is a __specialization__ of the supertype, it represents a related concept that is more refined or specific to a particular context. In our example, a rectangle has a notion of dimension as well as location and so is a special type of dimension. Other subtypes of `Dimension` could be defined which represent some other specialization but which has no relation to `Rect`. Classes can also inherit from multiple supertypes, thus should be thought of as being specialization of multiple concepts at once."
   ]
  }
 ],
 "metadata": {
  "kernelspec": {
   "display_name": "Python 2",
   "language": "python",
   "name": "python2"
  },
  "language_info": {
   "codemirror_mode": {
    "name": "ipython",
    "version": 2
   },
   "file_extension": ".py",
   "mimetype": "text/x-python",
   "name": "python",
   "nbconvert_exporter": "python",
   "pygments_lexer": "ipython2",
   "version": "2.7.11"
  }
 },
 "nbformat": 4,
 "nbformat_minor": 0
}
